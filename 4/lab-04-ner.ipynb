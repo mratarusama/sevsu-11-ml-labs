{
 "cells": [
  {
   "cell_type": "markdown",
   "id": "20b602aa",
   "metadata": {},
   "source": [
    "__лабораторная работа N4:__ извлечение именованных сущностей из текстов"
   ]
  },
  {
   "cell_type": "markdown",
   "id": "45891270",
   "metadata": {},
   "source": [
    "__цель:__ научиться преобразовывать тексты в структурированные данные"
   ]
  },
  {
   "cell_type": "markdown",
   "id": "96ce681e",
   "metadata": {},
   "source": [
    "__порядок выполнения:__  загружаем подходящий текст, применяем NER-тагеры, (см.примеры к лекци про NER)"
   ]
  },
  {
   "cell_type": "markdown",
   "id": "b1a7d17c",
   "metadata": {},
   "source": [
    "---"
   ]
  },
  {
   "cell_type": "code",
   "execution_count": 10,
   "id": "91978fb3",
   "metadata": {},
   "outputs": [
    {
     "name": "stdout",
     "output_type": "stream",
     "text": [
      "1407\n",
      "Преподаватель кафедры «Физвоспитание и спорт» СевГУ, штатная спортсменка Центра спортивной подготовк\n"
     ]
    }
   ],
   "source": [
    "# здесь загружаем текст\n",
    "\n",
    "filename = './test-sevsu-news.txt'\n",
    "\n",
    "with open(filename,'rt') as f: text = f.read()\n",
    "print(len(text))\n",
    "print(text[:100])"
   ]
  },
  {
   "cell_type": "code",
   "execution_count": 11,
   "id": "1fad4a05",
   "metadata": {},
   "outputs": [],
   "source": [
    "from ipymarkup import show_span_box_markup as show_markup\n",
    "\n",
    "from natasha import MorphVocab\n",
    "from natasha.extractors import NamesExtractor # извлечение имён\n",
    "from natasha.extractors import DatesExtractor # извлечение дат \n",
    "from natasha.extractors import AddrExtractor # извлечение адресов \n",
    "from natasha.extractors import MoneyExtractor  # извлечение записей о денежных суммах "
   ]
  },
  {
   "cell_type": "code",
   "execution_count": 12,
   "id": "fffff940",
   "metadata": {},
   "outputs": [
    {
     "data": {
      "text/html": [
       "<div class=\"tex2jax_ignore\" style=\"white-space: pre-wrap\"><span style=\"padding: 2px; border-radius: 4px; border: 1px solid #bbdefb; background: #e3f2fd\">Преподаватель</span> кафедры «Физвоспитание <span style=\"padding: 2px; border-radius: 4px; border: 1px solid #bbdefb; background: #e3f2fd\">и</span> спорт» СевГУ, <span style=\"padding: 2px; border-radius: 4px; border: 1px solid #bbdefb; background: #e3f2fd\">штатная</span> <span style=\"padding: 2px; border-radius: 4px; border: 1px solid #bbdefb; background: #e3f2fd\">спортсменка</span> <span style=\"padding: 2px; border-radius: 4px; border: 1px solid #bbdefb; background: #e3f2fd\">Центра</span> <span style=\"padding: 2px; border-radius: 4px; border: 1px solid #bbdefb; background: #e3f2fd\">спортивной</span> подготовки сборных команд Севастополя, <span style=\"padding: 2px; border-radius: 4px; border: 1px solid #bbdefb; background: #e3f2fd\">мастер</span> спорта международного <span style=\"padding: 2px; border-radius: 4px; border: 1px solid #bbdefb; background: #e3f2fd\">класса</span> <span style=\"padding: 2px; border-radius: 4px; border: 1px solid #bbdefb; background: #e3f2fd\">Елена Гапешина</span> завоевала <span style=\"padding: 2px; border-radius: 4px; border: 1px solid #bbdefb; background: #e3f2fd\">серебряную</span> медаль чемпионата России, выиграв два <span style=\"padding: 2px; border-radius: 4px; border: 1px solid #bbdefb; background: #e3f2fd\">поединка</span> <span style=\"padding: 2px; border-radius: 4px; border: 1px solid #bbdefb; background: #e3f2fd\">из</span> трех проведенных.\n",
       "\n",
       "<span style=\"padding: 2px; border-radius: 4px; border: 1px solid #bbdefb; background: #e3f2fd\">По</span> пути <span style=\"padding: 2px; border-radius: 4px; border: 1px solid #bbdefb; background: #e3f2fd\">к</span> финалу <span style=\"padding: 2px; border-radius: 4px; border: 1px solid #bbdefb; background: #e3f2fd\">в</span> <span style=\"padding: 2px; border-radius: 4px; border: 1px solid #bbdefb; background: #e3f2fd\">весовой</span> категории <span style=\"padding: 2px; border-radius: 4px; border: 1px solid #bbdefb; background: #e3f2fd\">до</span> 75 кг <span style=\"padding: 2px; border-radius: 4px; border: 1px solid #bbdefb; background: #e3f2fd\">спортсменка</span> <span style=\"padding: 2px; border-radius: 4px; border: 1px solid #bbdefb; background: #e3f2fd\">севастопольской</span> СШОР № 4, воспитанница <span style=\"padding: 2px; border-radius: 4px; border: 1px solid #bbdefb; background: #e3f2fd\">тренера</span> <span style=\"padding: 2px; border-radius: 4px; border: 1px solid #bbdefb; background: #e3f2fd\">Руслана Давиденко</span> <span style=\"padding: 2px; border-radius: 4px; border: 1px solid #bbdefb; background: #e3f2fd\">Гапешина</span> взяла <span style=\"padding: 2px; border-radius: 4px; border: 1px solid #bbdefb; background: #e3f2fd\">верх</span> <span style=\"padding: 2px; border-radius: 4px; border: 1px solid #bbdefb; background: #e3f2fd\">над</span> <span style=\"padding: 2px; border-radius: 4px; border: 1px solid #bbdefb; background: #e3f2fd\">москвичкой</span> <span style=\"padding: 2px; border-radius: 4px; border: 1px solid #bbdefb; background: #e3f2fd\">Луизой Давыдовой</span> (5:0). <span style=\"padding: 2px; border-radius: 4px; border: 1px solid #bbdefb; background: #e3f2fd\">В</span> полуфинале <span style=\"padding: 2px; border-radius: 4px; border: 1px solid #bbdefb; background: #e3f2fd\">Гапешина</span> одержала <span style=\"padding: 2px; border-radius: 4px; border: 1px solid #bbdefb; background: #e3f2fd\">победу</span> <span style=\"padding: 2px; border-radius: 4px; border: 1px solid #bbdefb; background: #e3f2fd\">явным</span> преимуществом <span style=\"padding: 2px; border-radius: 4px; border: 1px solid #bbdefb; background: #e3f2fd\">над</span> <span style=\"padding: 2px; border-radius: 4px; border: 1px solid #bbdefb; background: #e3f2fd\">Анной Галимовой</span> (Республика Татарстан), которую <span style=\"padding: 2px; border-radius: 4px; border: 1px solid #bbdefb; background: #e3f2fd\">в</span> <span style=\"padding: 2px; border-radius: 4px; border: 1px solid #bbdefb; background: #e3f2fd\">прошлом</span> году победила <span style=\"padding: 2px; border-radius: 4px; border: 1px solid #bbdefb; background: #e3f2fd\">в</span> четвертьфинальном <span style=\"padding: 2px; border-radius: 4px; border: 1px solid #bbdefb; background: #e3f2fd\">поединке</span> <span style=\"padding: 2px; border-radius: 4px; border: 1px solid #bbdefb; background: #e3f2fd\">со</span> счетом 5:0.\n",
       "\n",
       "<span style=\"padding: 2px; border-radius: 4px; border: 1px solid #bbdefb; background: #e3f2fd\">В</span> финале, как <span style=\"padding: 2px; border-radius: 4px; border: 1px solid #bbdefb; background: #e3f2fd\">и</span> <span style=\"padding: 2px; border-radius: 4px; border: 1px solid #bbdefb; background: #e3f2fd\">в</span> финале чемпионатов России 2021 <span style=\"padding: 2px; border-radius: 4px; border: 1px solid #bbdefb; background: #e3f2fd\">и</span> 2022 годов, соперницей <span style=\"padding: 2px; border-radius: 4px; border: 1px solid #bbdefb; background: #e3f2fd\">Гапешиной</span> была <span style=\"padding: 2px; border-radius: 4px; border: 1px solid #bbdefb; background: #e3f2fd\">Анастасия Шамонова</span>. <span style=\"padding: 2px; border-radius: 4px; border: 1px solid #bbdefb; background: #e3f2fd\">И</span> вновь единогласным решением судей (5:0) <span style=\"padding: 2px; border-radius: 4px; border: 1px solid #bbdefb; background: #e3f2fd\">чемпионкой</span> России, теперь <span style=\"padding: 2px; border-radius: 4px; border: 1px solid #bbdefb; background: #e3f2fd\">уж</span> четырехкратной, <span style=\"padding: 2px; border-radius: 4px; border: 1px solid #bbdefb; background: #e3f2fd\">стала</span> <span style=\"padding: 2px; border-radius: 4px; border: 1px solid #bbdefb; background: #e3f2fd\">спортсменка</span> <span style=\"padding: 2px; border-radius: 4px; border: 1px solid #bbdefb; background: #e3f2fd\">из Краснодарского</span> <span style=\"padding: 2px; border-radius: 4px; border: 1px solid #bbdefb; background: #e3f2fd\">края</span>.\n",
       "\n",
       "<span style=\"padding: 2px; border-radius: 4px; border: 1px solid #bbdefb; background: #e3f2fd\">А</span> <span style=\"padding: 2px; border-radius: 4px; border: 1px solid #bbdefb; background: #e3f2fd\">Елена Гапешина</span> <span style=\"padding: 2px; border-radius: 4px; border: 1px solid #bbdefb; background: #e3f2fd\">стала</span> четырехкратным <span style=\"padding: 2px; border-radius: 4px; border: 1px solid #bbdefb; background: #e3f2fd\">серебряным</span> призером чемпионата России. <span style=\"padding: 2px; border-radius: 4px; border: 1px solid #bbdefb; background: #e3f2fd\">Серебро</span> она <span style=\"padding: 2px; border-radius: 4px; border: 1px solid #bbdefb; background: #e3f2fd\">уже</span> завоевывала <span style=\"padding: 2px; border-radius: 4px; border: 1px solid #bbdefb; background: #e3f2fd\">в</span> 2018, 2021 <span style=\"padding: 2px; border-radius: 4px; border: 1px solid #bbdefb; background: #e3f2fd\">и</span> 2022 годах, <span style=\"padding: 2px; border-radius: 4px; border: 1px solid #bbdefb; background: #e3f2fd\">а</span> <span style=\"padding: 2px; border-radius: 4px; border: 1px solid #bbdefb; background: #e3f2fd\">в</span> 2020-м <span style=\"padding: 2px; border-radius: 4px; border: 1px solid #bbdefb; background: #e3f2fd\">стала</span> обладательницей <span style=\"padding: 2px; border-radius: 4px; border: 1px solid #bbdefb; background: #e3f2fd\">бронзовой</span> медали.\n",
       "\n",
       "<span style=\"padding: 2px; border-radius: 4px; border: 1px solid #bbdefb; background: #e3f2fd\">Победителем</span> <span style=\"padding: 2px; border-radius: 4px; border: 1px solid #bbdefb; background: #e3f2fd\">в</span> командном <span style=\"padding: 2px; border-radius: 4px; border: 1px solid #bbdefb; background: #e3f2fd\">зачете</span> <span style=\"padding: 2px; border-radius: 4px; border: 1px solid #bbdefb; background: #e3f2fd\">стали</span> девушки-<span style=\"padding: 2px; border-radius: 4px; border: 1px solid #bbdefb; background: #e3f2fd\">боксеры</span> <span style=\"padding: 2px; border-radius: 4px; border: 1px solid #bbdefb; background: #e3f2fd\">из Краснодарского</span> <span style=\"padding: 2px; border-radius: 4px; border: 1px solid #bbdefb; background: #e3f2fd\">края</span> (65 <span style=\"padding: 2px; border-radius: 4px; border: 1px solid #bbdefb; background: #e3f2fd\">очков</span>). Сборная <span style=\"padding: 2px; border-radius: 4px; border: 1px solid #bbdefb; background: #e3f2fd\">Московской</span> области (43) <span style=\"padding: 2px; border-radius: 4px; border: 1px solid #bbdefb; background: #e3f2fd\">стала</span> второй, на третьем месте — команда Санкт-Петербурга (38).\n",
       "\n",
       "Призовой фонд чемпионата России составляет 24 <span style=\"padding: 2px; border-radius: 4px; border: 1px solid #bbdefb; background: #e3f2fd\">миллиона</span> <span style=\"padding: 2px; border-radius: 4px; border: 1px solid #bbdefb; background: #e3f2fd\">рублей</span>. <span style=\"padding: 2px; border-radius: 4px; border: 1px solid #bbdefb; background: #e3f2fd\">Победительницы</span> получат <span style=\"padding: 2px; border-radius: 4px; border: 1px solid #bbdefb; background: #e3f2fd\">по</span> 1,5 млн, <span style=\"padding: 2px; border-radius: 4px; border: 1px solid #bbdefb; background: #e3f2fd\">серебряные</span> медалисты — <span style=\"padding: 2px; border-radius: 4px; border: 1px solid #bbdefb; background: #e3f2fd\">по</span> 250 <span style=\"padding: 2px; border-radius: 4px; border: 1px solid #bbdefb; background: #e3f2fd\">тысяч</span>, <span style=\"padding: 2px; border-radius: 4px; border: 1px solid #bbdefb; background: #e3f2fd\">бронзовые</span> — <span style=\"padding: 2px; border-radius: 4px; border: 1px solid #bbdefb; background: #e3f2fd\">по</span> 125 <span style=\"padding: 2px; border-radius: 4px; border: 1px solid #bbdefb; background: #e3f2fd\">тысяч</span> <span style=\"padding: 2px; border-radius: 4px; border: 1px solid #bbdefb; background: #e3f2fd\">рублей</span>.</div>"
      ],
      "text/plain": [
       "<IPython.core.display.HTML object>"
      ]
     },
     "metadata": {},
     "output_type": "display_data"
    },
    {
     "data": {
      "text/plain": [
       "[{'last': 'Преподаватель'},\n",
       " {'last': 'и'},\n",
       " {'last': 'штатная'},\n",
       " {'last': 'спортсменка'},\n",
       " {'last': 'Центра'},\n",
       " {'last': 'спортивной'},\n",
       " {'last': 'мастер'},\n",
       " {'last': 'класса'},\n",
       " {'first': 'Елена', 'last': 'Гапешина'},\n",
       " {'last': 'серебряную'},\n",
       " {'last': 'поединка'},\n",
       " {'first': 'из'},\n",
       " {'last': 'По'},\n",
       " {'last': 'к'},\n",
       " {'last': 'в'},\n",
       " {'last': 'весовой'},\n",
       " {'last': 'до'},\n",
       " {'last': 'спортсменка'},\n",
       " {'last': 'севастопольской'},\n",
       " {'last': 'тренера'},\n",
       " {'first': 'Руслана', 'last': 'Давиденко'},\n",
       " {'last': 'Гапешина'},\n",
       " {'last': 'верх'},\n",
       " {'last': 'над'},\n",
       " {'last': 'москвичкой'},\n",
       " {'first': 'Луизой', 'last': 'Давыдовой'},\n",
       " {'last': 'В'},\n",
       " {'last': 'Гапешина'},\n",
       " {'last': 'победу'},\n",
       " {'last': 'явным'},\n",
       " {'last': 'над'},\n",
       " {'first': 'Анной', 'last': 'Галимовой'},\n",
       " {'last': 'в'},\n",
       " {'last': 'прошлом'},\n",
       " {'last': 'в'},\n",
       " {'last': 'поединке'},\n",
       " {'last': 'со'},\n",
       " {'last': 'В'},\n",
       " {'last': 'и'},\n",
       " {'last': 'в'},\n",
       " {'last': 'и'},\n",
       " {'last': 'Гапешиной'},\n",
       " {'first': 'Анастасия', 'last': 'Шамонова'},\n",
       " {'last': 'И'},\n",
       " {'last': 'чемпионкой'},\n",
       " {'last': 'уж'},\n",
       " {'last': 'стала'},\n",
       " {'last': 'спортсменка'},\n",
       " {'first': 'из', 'last': 'Краснодарского'},\n",
       " {'last': 'края'},\n",
       " {'last': 'А'},\n",
       " {'first': 'Елена', 'last': 'Гапешина'},\n",
       " {'last': 'стала'},\n",
       " {'last': 'серебряным'},\n",
       " {'last': 'Серебро'},\n",
       " {'last': 'уже'},\n",
       " {'last': 'в'},\n",
       " {'last': 'и'},\n",
       " {'last': 'а'},\n",
       " {'last': 'в'},\n",
       " {'last': 'стала'},\n",
       " {'last': 'бронзовой'},\n",
       " {'last': 'Победителем'},\n",
       " {'last': 'в'},\n",
       " {'last': 'зачете'},\n",
       " {'last': 'стали'},\n",
       " {'last': 'боксеры'},\n",
       " {'first': 'из', 'last': 'Краснодарского'},\n",
       " {'last': 'края'},\n",
       " {'last': 'очков'},\n",
       " {'last': 'Московской'},\n",
       " {'last': 'стала'},\n",
       " {'last': 'миллиона'},\n",
       " {'last': 'рублей'},\n",
       " {'last': 'Победительницы'},\n",
       " {'last': 'по'},\n",
       " {'last': 'серебряные'},\n",
       " {'last': 'по'},\n",
       " {'last': 'тысяч'},\n",
       " {'last': 'бронзовые'},\n",
       " {'last': 'по'},\n",
       " {'last': 'тысяч'},\n",
       " {'last': 'рублей'}]"
      ]
     },
     "metadata": {},
     "output_type": "display_data"
    }
   ],
   "source": [
    "# Извлечение имён\n",
    "\n",
    "names_extractor = NamesExtractor(MorphVocab())\n",
    "\n",
    "matches = list(names_extractor(text))\n",
    "show_markup( text, [ (m.start,m.stop) for m in  matches ] )\n",
    "display( [ dict( m.as_json['fact'].as_json ) for m in matches ]  )"
   ]
  },
  {
   "cell_type": "code",
   "execution_count": 13,
   "id": "eea41ff0",
   "metadata": {},
   "outputs": [
    {
     "data": {
      "text/html": [
       "<div class=\"tex2jax_ignore\" style=\"white-space: pre-wrap\">Преподаватель кафедры «Физвоспитание и спорт» СевГУ, штатная спортсменка Центра спортивной подготовки сборных команд Севастополя, мастер спорта международного класса Елена Гапешина завоевала серебряную медаль чемпионата России, выиграв два поединка из трех проведенных.\n",
       "\n",
       "По пути к финалу в весовой категории до 75 кг спортсменка севастопольской СШОР № 4, воспитанница тренера Руслана Давиденко Гапешина взяла верх над москвичкой Луизой Давыдовой (5:0). В полуфинале Гапешина одержала победу явным преимуществом над Анной Галимовой (Республика Татарстан), которую в прошлом году победила в четвертьфинальном поединке со счетом 5:0.\n",
       "\n",
       "В финале, как и в финале чемпионатов России 2021 и <span style=\"padding: 2px; border-radius: 4px; border: 1px solid #bbdefb; background: #e3f2fd\">2022 годов</span>, соперницей Гапешиной была Анастасия Шамонова. И вновь единогласным решением судей (5:0) чемпионкой России, теперь уж четырехкратной, стала спортсменка из Краснодарского края.\n",
       "\n",
       "А Елена Гапешина стала четырехкратным серебряным призером чемпионата России. Серебро она уже завоевывала в 2018, 2021 и <span style=\"padding: 2px; border-radius: 4px; border: 1px solid #bbdefb; background: #e3f2fd\">2022 годах</span>, а в 2020-м стала обладательницей бронзовой медали.\n",
       "\n",
       "Победителем в командном зачете стали девушки-боксеры из Краснодарского края (65 очков). Сборная Московской области (43) стала второй, на третьем месте — команда Санкт-Петербурга (38).\n",
       "\n",
       "Призовой фонд чемпионата России составляет 24 миллиона рублей. Победительницы получат по 1,5 млн, серебряные медалисты — по 250 тысяч, бронзовые — по 125 тысяч рублей.</div>"
      ],
      "text/plain": [
       "<IPython.core.display.HTML object>"
      ]
     },
     "metadata": {},
     "output_type": "display_data"
    },
    {
     "data": {
      "text/plain": [
       "[{'year': 2022}, {'year': 2022}]"
      ]
     },
     "metadata": {},
     "output_type": "display_data"
    }
   ],
   "source": [
    "# Извдечение дат\n",
    "\n",
    "dates_extractor = DatesExtractor(MorphVocab())\n",
    "\n",
    "matches = list(dates_extractor(text))\n",
    "show_markup( text, [ (m.start,m.stop) for m in  matches ] )\n",
    "display( [ dict( m.as_json['fact'].as_json ) for m in matches ]  )"
   ]
  },
  {
   "cell_type": "code",
   "execution_count": 14,
   "id": "78a82dd2",
   "metadata": {},
   "outputs": [
    {
     "data": {
      "text/html": [
       "<div class=\"tex2jax_ignore\" style=\"white-space: pre-wrap\">Преподаватель кафедры «Физвоспитание и спорт» СевГУ, штатная спортсменка Центра спортивной подготовки сборных команд <span style=\"padding: 2px; border-radius: 4px; border: 1px solid #bbdefb; background: #e3f2fd\">Севастополя</span>, мастер спорта международного класса Елена Гапешина завоевала серебряную медаль чемпионата <span style=\"padding: 2px; border-radius: 4px; border: 1px solid #bbdefb; background: #e3f2fd\">России</span>, выиграв два поединка из трех проведенных.\n",
       "\n",
       "По пути к финалу в весовой категории до 75 кг спортсменка севастопольской СШОР № 4, воспитанница тренера Руслана Давиденко Гапешина взяла верх над москвичкой Луизой Давыдовой (5:0). В полуфинале Гапешина одержала победу явным преимуществом над Анной Галимовой (<span style=\"padding: 2px; border-radius: 4px; border: 1px solid #bbdefb; background: #e3f2fd\">Республика Татарстан</span>), которую в прошлом году победила в четвертьфинальном поединке со счетом 5:0.\n",
       "\n",
       "В финале, как и в финале чемпионатов <span style=\"padding: 2px; border-radius: 4px; border: 1px solid #bbdefb; background: #e3f2fd\">России</span> 2021 и 2022 годов, соперницей Гапешиной была Анастасия Шамонова. И вновь единогласным решением судей (5:0) чемпионкой <span style=\"padding: 2px; border-radius: 4px; border: 1px solid #bbdefb; background: #e3f2fd\">России</span>, теперь уж четырехкратной, стала спортсменка из <span style=\"padding: 2px; border-radius: 4px; border: 1px solid #bbdefb; background: #e3f2fd\">Краснодарского края</span>.\n",
       "\n",
       "А Елена Гапешина стала четырехкратным серебряным призером чемпионата <span style=\"padding: 2px; border-radius: 4px; border: 1px solid #bbdefb; background: #e3f2fd\">России</span>. Серебро она уже завоевывала в 2018, 2021 и 2022 годах, а в 2020-м стала обладательницей бронзовой медали.\n",
       "\n",
       "Победителем в командном зачете стали девушки-боксеры из <span style=\"padding: 2px; border-radius: 4px; border: 1px solid #bbdefb; background: #e3f2fd\">Краснодарского края</span> (65 очков). Сборная <span style=\"padding: 2px; border-radius: 4px; border: 1px solid #bbdefb; background: #e3f2fd\">Московской области</span> (43) стала второй, на третьем месте — команда <span style=\"padding: 2px; border-radius: 4px; border: 1px solid #bbdefb; background: #e3f2fd\">Санкт-Петербурга</span> (38).\n",
       "\n",
       "Призовой фонд чемпионата <span style=\"padding: 2px; border-radius: 4px; border: 1px solid #bbdefb; background: #e3f2fd\">России</span> составляет 24 миллиона рублей. Победительницы получат по 1,5 млн, серебряные медалисты — по 250 тысяч, бронзовые — по 125 тысяч рублей.</div>"
      ],
      "text/plain": [
       "<IPython.core.display.HTML object>"
      ]
     },
     "metadata": {},
     "output_type": "display_data"
    },
    {
     "data": {
      "text/plain": [
       "[{'value': 'Севастополя'},\n",
       " {'value': 'России', 'type': 'страна'},\n",
       " {'value': 'Татарстан', 'type': 'республика'},\n",
       " {'value': 'России', 'type': 'страна'},\n",
       " {'value': 'России', 'type': 'страна'},\n",
       " {'value': 'Краснодарского', 'type': 'край'},\n",
       " {'value': 'России', 'type': 'страна'},\n",
       " {'value': 'Краснодарского', 'type': 'край'},\n",
       " {'value': 'Московской', 'type': 'область'},\n",
       " {'value': 'Санкт-Петербурга'},\n",
       " {'value': 'России', 'type': 'страна'}]"
      ]
     },
     "metadata": {},
     "output_type": "display_data"
    }
   ],
   "source": [
    "# Извлечение адресов\n",
    "\n",
    "addr_extractor = AddrExtractor(MorphVocab())\n",
    "\n",
    "matches = list(addr_extractor(text))\n",
    "show_markup( text, [ (m.start,m.stop) for m in  matches ] )\n",
    "display( [ dict( m.as_json['fact'].as_json ) for m in matches ]  )"
   ]
  },
  {
   "cell_type": "code",
   "execution_count": 15,
   "id": "fe19f406",
   "metadata": {},
   "outputs": [
    {
     "data": {
      "text/html": [
       "<div class=\"tex2jax_ignore\" style=\"white-space: pre-wrap\">Преподаватель кафедры «Физвоспитание и спорт» СевГУ, штатная спортсменка Центра спортивной подготовки сборных команд Севастополя, мастер спорта международного класса Елена Гапешина завоевала серебряную медаль чемпионата России, выиграв два поединка из трех проведенных.\n",
       "\n",
       "По пути к финалу в весовой категории до 75 кг спортсменка севастопольской СШОР № 4, воспитанница тренера Руслана Давиденко Гапешина взяла верх над москвичкой Луизой Давыдовой (5:0). В полуфинале Гапешина одержала победу явным преимуществом над Анной Галимовой (Республика Татарстан), которую в прошлом году победила в четвертьфинальном поединке со счетом 5:0.\n",
       "\n",
       "В финале, как и в финале чемпионатов России 2021 и 2022 годов, соперницей Гапешиной была Анастасия Шамонова. И вновь единогласным решением судей (5:0) чемпионкой России, теперь уж четырехкратной, стала спортсменка из Краснодарского края.\n",
       "\n",
       "А Елена Гапешина стала четырехкратным серебряным призером чемпионата России. Серебро она уже завоевывала в 2018, 2021 и 2022 годах, а в 2020-м стала обладательницей бронзовой медали.\n",
       "\n",
       "Победителем в командном зачете стали девушки-боксеры из Краснодарского края (65 очков). Сборная Московской области (43) стала второй, на третьем месте — команда Санкт-Петербурга (38).\n",
       "\n",
       "Призовой фонд чемпионата России составляет <span style=\"padding: 2px; border-radius: 4px; border: 1px solid #bbdefb; background: #e3f2fd\">24 миллиона рублей</span>. Победительницы получат по 1,5 млн, серебряные медалисты — по 250 тысяч, бронзовые — по <span style=\"padding: 2px; border-radius: 4px; border: 1px solid #bbdefb; background: #e3f2fd\">125 тысяч рублей</span>.</div>"
      ],
      "text/plain": [
       "<IPython.core.display.HTML object>"
      ]
     },
     "metadata": {},
     "output_type": "display_data"
    },
    {
     "data": {
      "text/plain": [
       "[{'amount': 24000000, 'currency': 'RUB'},\n",
       " {'amount': 125000, 'currency': 'RUB'}]"
      ]
     },
     "metadata": {},
     "output_type": "display_data"
    }
   ],
   "source": [
    "# Извлечение записей о денежных суммах\n",
    "\n",
    "money_extractor = MoneyExtractor(MorphVocab())\n",
    "\n",
    "matches = list(money_extractor(text))\n",
    "show_markup( text, [ (m.start,m.stop) for m in  matches ] )\n",
    "display( [ dict( m.as_json['fact'].as_json ) for m in matches ]  )"
   ]
  },
  {
   "cell_type": "code",
   "execution_count": 17,
   "id": "6b916801",
   "metadata": {},
   "outputs": [],
   "source": [
    "from natasha import Doc\n",
    "from natasha import Segmenter\n",
    "from natasha import NewsNERTagger\n",
    "from natasha import NewsEmbedding"
   ]
  },
  {
   "cell_type": "code",
   "execution_count": 18,
   "id": "d101bb54",
   "metadata": {},
   "outputs": [
    {
     "data": {
      "text/html": [
       "<div class=\"tex2jax_ignore\" style=\"white-space: pre-wrap\">Преподаватель кафедры «Физвоспитание и спорт» СевГУ, штатная спортсменка <span style=\"padding: 2px; border-radius: 4px; border: 1px solid #c8e6c9; background: #e8f5e9\">Центра спортивной подготовки сборных команд<span style=\"vertical-align: middle; margin-left: 2px; font-size: 0.7em; color: #66bb6a;\">ORG</span></span> <span style=\"padding: 2px; border-radius: 4px; border: 1px solid #ffe0b2; background: #fff3e0\">Севастополя<span style=\"vertical-align: middle; margin-left: 2px; font-size: 0.7em; color: #ffb74d;\">LOC</span></span>, мастер спорта международного класса <span style=\"padding: 2px; border-radius: 4px; border: 1px solid #ffcdd2; background: #ffebee\">Елена Гапешина<span style=\"vertical-align: middle; margin-left: 2px; font-size: 0.7em; color: #e57373;\">PER</span></span> завоевала серебряную медаль чемпионата <span style=\"padding: 2px; border-radius: 4px; border: 1px solid #ffe0b2; background: #fff3e0\">России<span style=\"vertical-align: middle; margin-left: 2px; font-size: 0.7em; color: #ffb74d;\">LOC</span></span>, выиграв два поединка из трех проведенных.\n",
       "\n",
       "По пути к финалу в весовой категории до 75 кг спортсменка севастопольской <span style=\"padding: 2px; border-radius: 4px; border: 1px solid #c8e6c9; background: #e8f5e9\">СШОР № 4<span style=\"vertical-align: middle; margin-left: 2px; font-size: 0.7em; color: #66bb6a;\">ORG</span></span>, воспитанница тренера <span style=\"padding: 2px; border-radius: 4px; border: 1px solid #ffcdd2; background: #ffebee\">Руслана Давиденко<span style=\"vertical-align: middle; margin-left: 2px; font-size: 0.7em; color: #e57373;\">PER</span></span> <span style=\"padding: 2px; border-radius: 4px; border: 1px solid #ffcdd2; background: #ffebee\">Гапешина<span style=\"vertical-align: middle; margin-left: 2px; font-size: 0.7em; color: #e57373;\">PER</span></span> взяла верх над москвичкой <span style=\"padding: 2px; border-radius: 4px; border: 1px solid #ffcdd2; background: #ffebee\">Луизой Давыдовой<span style=\"vertical-align: middle; margin-left: 2px; font-size: 0.7em; color: #e57373;\">PER</span></span> (5:0). В полуфинале <span style=\"padding: 2px; border-radius: 4px; border: 1px solid #ffcdd2; background: #ffebee\">Гапешина<span style=\"vertical-align: middle; margin-left: 2px; font-size: 0.7em; color: #e57373;\">PER</span></span> одержала победу явным преимуществом над <span style=\"padding: 2px; border-radius: 4px; border: 1px solid #ffcdd2; background: #ffebee\">Анной Галимовой<span style=\"vertical-align: middle; margin-left: 2px; font-size: 0.7em; color: #e57373;\">PER</span></span> (<span style=\"padding: 2px; border-radius: 4px; border: 1px solid #ffe0b2; background: #fff3e0\">Республика Татарстан<span style=\"vertical-align: middle; margin-left: 2px; font-size: 0.7em; color: #ffb74d;\">LOC</span></span>), которую в прошлом году победила в четвертьфинальном поединке со счетом 5:0.\n",
       "\n",
       "В финале, как и в финале чемпионатов <span style=\"padding: 2px; border-radius: 4px; border: 1px solid #ffe0b2; background: #fff3e0\">России<span style=\"vertical-align: middle; margin-left: 2px; font-size: 0.7em; color: #ffb74d;\">LOC</span></span> 2021 и 2022 годов, соперницей <span style=\"padding: 2px; border-radius: 4px; border: 1px solid #ffcdd2; background: #ffebee\">Гапешиной<span style=\"vertical-align: middle; margin-left: 2px; font-size: 0.7em; color: #e57373;\">PER</span></span> была <span style=\"padding: 2px; border-radius: 4px; border: 1px solid #ffcdd2; background: #ffebee\">Анастасия Шамонова<span style=\"vertical-align: middle; margin-left: 2px; font-size: 0.7em; color: #e57373;\">PER</span></span>. И вновь единогласным решением судей (5:0) чемпионкой <span style=\"padding: 2px; border-radius: 4px; border: 1px solid #ffe0b2; background: #fff3e0\">России<span style=\"vertical-align: middle; margin-left: 2px; font-size: 0.7em; color: #ffb74d;\">LOC</span></span>, теперь уж четырехкратной, стала спортсменка из <span style=\"padding: 2px; border-radius: 4px; border: 1px solid #ffe0b2; background: #fff3e0\">Краснодарского края<span style=\"vertical-align: middle; margin-left: 2px; font-size: 0.7em; color: #ffb74d;\">LOC</span></span>.\n",
       "\n",
       "А <span style=\"padding: 2px; border-radius: 4px; border: 1px solid #ffcdd2; background: #ffebee\">Елена Гапешина<span style=\"vertical-align: middle; margin-left: 2px; font-size: 0.7em; color: #e57373;\">PER</span></span> стала четырехкратным серебряным призером чемпионата <span style=\"padding: 2px; border-radius: 4px; border: 1px solid #ffe0b2; background: #fff3e0\">России<span style=\"vertical-align: middle; margin-left: 2px; font-size: 0.7em; color: #ffb74d;\">LOC</span></span>. Серебро она уже завоевывала в 2018, 2021 и 2022 годах, а в 2020-м стала обладательницей бронзовой медали.\n",
       "\n",
       "Победителем в командном зачете стали девушки-боксеры из <span style=\"padding: 2px; border-radius: 4px; border: 1px solid #ffe0b2; background: #fff3e0\">Краснодарского края<span style=\"vertical-align: middle; margin-left: 2px; font-size: 0.7em; color: #ffb74d;\">LOC</span></span> (65 очков). Сборная <span style=\"padding: 2px; border-radius: 4px; border: 1px solid #ffe0b2; background: #fff3e0\">Московской области<span style=\"vertical-align: middle; margin-left: 2px; font-size: 0.7em; color: #ffb74d;\">LOC</span></span> (43) стала второй, на третьем месте — команда <span style=\"padding: 2px; border-radius: 4px; border: 1px solid #ffe0b2; background: #fff3e0\">Санкт-Петербурга<span style=\"vertical-align: middle; margin-left: 2px; font-size: 0.7em; color: #ffb74d;\">LOC</span></span> (38).\n",
       "\n",
       "Призовой фонд чемпионата <span style=\"padding: 2px; border-radius: 4px; border: 1px solid #ffe0b2; background: #fff3e0\">России<span style=\"vertical-align: middle; margin-left: 2px; font-size: 0.7em; color: #ffb74d;\">LOC</span></span> составляет 24 миллиона рублей. Победительницы получат по 1,5 млн, серебряные медалисты — по 250 тысяч, бронзовые — по 125 тысяч рублей.</div>"
      ],
      "text/plain": [
       "<IPython.core.display.HTML object>"
      ]
     },
     "metadata": {},
     "output_type": "display_data"
    },
    {
     "data": {
      "text/plain": [
       "[('Центра спортивной подготовки сборных команд', 'ORG'),\n",
       " ('Севастополя', 'LOC'),\n",
       " ('Елена Гапешина', 'PER'),\n",
       " ('России', 'LOC'),\n",
       " ('СШОР № 4', 'ORG'),\n",
       " ('Руслана Давиденко', 'PER'),\n",
       " ('Гапешина', 'PER'),\n",
       " ('Луизой Давыдовой', 'PER'),\n",
       " ('Гапешина', 'PER'),\n",
       " ('Анной Галимовой', 'PER'),\n",
       " ('Республика Татарстан', 'LOC'),\n",
       " ('России', 'LOC'),\n",
       " ('Гапешиной', 'PER'),\n",
       " ('Анастасия Шамонова', 'PER'),\n",
       " ('России', 'LOC'),\n",
       " ('Краснодарского края', 'LOC'),\n",
       " ('Елена Гапешина', 'PER'),\n",
       " ('России', 'LOC'),\n",
       " ('Краснодарского края', 'LOC'),\n",
       " ('Московской области', 'LOC'),\n",
       " ('Санкт-Петербурга', 'LOC'),\n",
       " ('России', 'LOC')]"
      ]
     },
     "metadata": {},
     "output_type": "display_data"
    }
   ],
   "source": [
    "# Извлечение информации об именованных сущностях\n",
    "\n",
    "sentences = Doc(text)\n",
    "sentences.segment(Segmenter()) \n",
    "\n",
    "sentences.tag_ner(NewsNERTagger(NewsEmbedding()))\n",
    "\n",
    "show_markup(text, sentences.ner.spans )\n",
    "display( [ ( text[s.start:s.stop],s.type) for s in sentences.ner.spans ] )"
   ]
  }
 ],
 "metadata": {
  "kernelspec": {
   "display_name": "Python 3 (ipykernel)",
   "language": "python",
   "name": "python3"
  },
  "language_info": {
   "codemirror_mode": {
    "name": "ipython",
    "version": 3
   },
   "file_extension": ".py",
   "mimetype": "text/x-python",
   "name": "python",
   "nbconvert_exporter": "python",
   "pygments_lexer": "ipython3",
   "version": "3.10.12"
  },
  "toc": {
   "base_numbering": 1,
   "nav_menu": {},
   "number_sections": true,
   "sideBar": true,
   "skip_h1_title": false,
   "title_cell": "Table of Contents",
   "title_sidebar": "Contents",
   "toc_cell": false,
   "toc_position": {},
   "toc_section_display": true,
   "toc_window_display": false
  }
 },
 "nbformat": 4,
 "nbformat_minor": 5
}
